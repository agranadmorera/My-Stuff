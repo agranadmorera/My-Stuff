{
  "nbformat": 4,
  "nbformat_minor": 0,
  "metadata": {
    "colab": {
      "name": "Intercambio de Variables - Andres-Granados.ipynb",
      "provenance": [],
      "authorship_tag": "ABX9TyMqclVjgbp4Qw3V+AOZz+56",
      "include_colab_link": true
    },
    "kernelspec": {
      "name": "python3",
      "display_name": "Python 3"
    },
    "language_info": {
      "name": "python"
    }
  },
  "cells": [
    {
      "cell_type": "markdown",
      "metadata": {
        "id": "view-in-github",
        "colab_type": "text"
      },
      "source": [
        "<a href=\"https://colab.research.google.com/github/agranadmorera/My-Stuff/blob/main/Intercambio_de_Variables_Andres_Granados.ipynb\" target=\"_parent\"><img src=\"https://colab.research.google.com/assets/colab-badge.svg\" alt=\"Open In Colab\"/></a>"
      ]
    },
    {
      "cell_type": "code",
      "execution_count": 15,
      "metadata": {
        "colab": {
          "base_uri": "https://localhost:8080/"
        },
        "id": "F1S1qwzvhT3F",
        "outputId": "4692a236-ec97-4a7b-f307-b81677da38bb"
      },
      "outputs": [
        {
          "output_type": "stream",
          "name": "stdout",
          "text": [
            "5\n"
          ]
        }
      ],
      "source": [
        "#¿Cuál sería la forma más eficiente para intercambiar el contenido de 2 variables X y Y distintas que ingresa el usuario?, luego del intercambio se muestra el contenido de las variables.\n",
        "#Valide que los valores de las variables sean distintos para realizar el intercambio del contenido.\n",
        "\n",
        "#Ejemplo (Si la persona ingresara)\n",
        "\n",
        "#X= 5 y Y=7\n",
        "#Al intercambiar debería mostrar\n",
        "#X=7 y Y=5\n",
        "\n",
        "x = 7;\n",
        "\n",
        "y = 5;\n",
        "\n",
        "aux = x;\n",
        "\n",
        "x = y;\n",
        "\n",
        "y = aux;\n",
        "\n",
        "print(x)"
      ]
    },
    {
      "cell_type": "code",
      "source": [
        "print(y)"
      ],
      "metadata": {
        "colab": {
          "base_uri": "https://localhost:8080/"
        },
        "id": "1Bxiy1Q_kMma",
        "outputId": "3d419f01-da61-49fa-eb44-48d7f39c9771"
      },
      "execution_count": 16,
      "outputs": [
        {
          "output_type": "stream",
          "name": "stdout",
          "text": [
            "7\n"
          ]
        }
      ]
    }
  ]
}