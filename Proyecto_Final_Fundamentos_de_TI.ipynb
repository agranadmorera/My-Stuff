{
  "nbformat": 4,
  "nbformat_minor": 0,
  "metadata": {
    "colab": {
      "name": "Proyecto Final - Fundamentos de TI.ipynb",
      "provenance": [],
      "authorship_tag": "ABX9TyN5W7O2zYwByQDL462v5Byu",
      "include_colab_link": true
    },
    "kernelspec": {
      "name": "python3",
      "display_name": "Python 3"
    },
    "language_info": {
      "name": "python"
    }
  },
  "cells": [
    {
      "cell_type": "markdown",
      "metadata": {
        "id": "view-in-github",
        "colab_type": "text"
      },
      "source": [
        "<a href=\"https://colab.research.google.com/github/agranadmorera/My-Stuff/blob/main/Proyecto_Final_Fundamentos_de_TI.ipynb\" target=\"_parent\"><img src=\"https://colab.research.google.com/assets/colab-badge.svg\" alt=\"Open In Colab\"/></a>"
      ]
    },
    {
      "cell_type": "code",
      "source": [
        "#Proyecto Final Programación.\n",
        "\n",
        "#Menu princial.\n",
        "import datetime\n",
        "now = datetime.datetime.now()\n",
        "\n",
        "print(\"Caculadora de areas\")\n",
        "print(\"La fecha y hora del sistema es: \")\n",
        "print(now.strftime(\"%d-%m-%y %H:%M:%S%p:\"))\n",
        "def MenuPrincipal():\n",
        "    print(\"Menu Principal: Figuras geométricas: \\n\")\n",
        "    print(\"1.Círuclo. \\n \")\n",
        "    print(\"2.Cuadrado. \\n \")\n",
        "    print(\"3.Rectángulo. \\n \")\n",
        "    print(\"4.Rombo. \\n \")\n",
        "    print(\"5.Romboide. \\n \")\n",
        "    print(\"6.Trapecio. \\n \")\n",
        "    print(\"7.Polígono regular. \\n\")\n",
        "    print(\"8.Salir. \\n\")\n",
        "    decision = int(input(\"Digite el número deseado: \"))\n",
        "    if decision == 1:\n",
        "        círculo()\n",
        "        MenuPrincipal()\n",
        "    elif decision == 2:\n",
        "        Cuadrado()\n",
        "    elif decision == 3:\n",
        "        Rectangulo()\n",
        "    elif decision == 4:\n",
        "        Rombo()\n",
        "    elif decision == 5:\n",
        "        Romboide()\n",
        "    elif decision == 6:\n",
        "        Trapecio()\n",
        "    elif decision == 7:\n",
        "        Poligono()\n",
        "    elif decision == 8:\n",
        "        exit\n",
        "    else:\n",
        "        print(\"Opción invalida. Digite un numero del 1-8.\")\n",
        "        MenuPrincipal()\n",
        "        \n",
        "                     \n",
        "#Mainroutine\n",
        "MenuPrincipal()"
      ],
      "metadata": {
        "colab": {
          "base_uri": "https://localhost:8080/"
        },
        "id": "wzjASDJT4wnw",
        "outputId": "b0d16277-cf13-4f69-d739-9e86d04c90d5"
      },
      "execution_count": null,
      "outputs": [
        {
          "output_type": "stream",
          "name": "stdout",
          "text": [
            "Caculadora de areas\n",
            "La fecha y hora del sistema es: \n",
            "07-04-22 16:45:13PM:\n",
            "Menu Principal: Figuras geométricas: \n",
            "\n",
            "1.Círuclo. \n",
            " \n",
            "2.Cuadrado. \n",
            " \n",
            "3.Rectángulo. \n",
            " \n",
            "4.Rombo. \n",
            " \n",
            "5.Romboide. \n",
            " \n",
            "6.Trapecio. \n",
            " \n",
            "7.Polígono regular. \n",
            "\n",
            "8.Salir. \n",
            "\n"
          ]
        }
      ]
    },
    {
      "cell_type": "code",
      "source": [
        "#Funciones de las araes de las figuras geometricas.       \n",
        "def circulo():\n",
        "    radio = int(input(\"Digite el radio del círculo a calcular: \"))\n",
        "    area = 3.14 * (radio*radio)\n",
        "    print(\"El área del círculo es:\", area)\n",
        "    MenuPrincipal()\n"
      ],
      "metadata": {
        "id": "GvQdgR5M4xFv"
      },
      "execution_count": null,
      "outputs": []
    },
    {
      "cell_type": "code",
      "source": [
        "def Cuadrado():\n",
        "    lado = int(input(\"Digite el lado del cuadrado: \"))\n",
        "    area = lado * lado\n",
        "    print(\"El area del cuadrado es:\", area)\n",
        "    MenuPrincipal()"
      ],
      "metadata": {
        "id": "S6PzMSI54xNi"
      },
      "execution_count": null,
      "outputs": []
    },
    {
      "cell_type": "code",
      "source": [
        "def Rectangulo():\n",
        "    altura = int(input(\"Digite la altura del rectangulo: \"))\n",
        "    base = int(input(\"Digite la base del rectangulo: \"))\n",
        "    area = altura*base\n",
        "    print (\"El area del rectangulo es:\", area)\n",
        "    MenuPrincipal()"
      ],
      "metadata": {
        "id": "6CFw9Ak-4xPp"
      },
      "execution_count": null,
      "outputs": []
    },
    {
      "cell_type": "code",
      "source": [
        "def Rombo():\n",
        "    diagonal_mayor = int(input(\"Digite la diagonal mayor del rombo: \"))\n",
        "    diagonal_menor = int(input(\"Digite la diagonal menor del rombo: \"))\n",
        "    area = (diagonal_mayor * diagonal_menor)/2\n",
        "    print (\"El area del rombo es:\", area)\n",
        "    MenuPrincipal()"
      ],
      "metadata": {
        "id": "YKlBlsKC4xSR"
      },
      "execution_count": null,
      "outputs": []
    },
    {
      "cell_type": "code",
      "source": [
        "def Romboide():\n",
        "    altura = int(input(\"Digite la altura del romboide: \"))\n",
        "    base = int(input(\"Digite la base del romboide: \"))\n",
        "    area = altura*base\n",
        "    print (\"El area del rectangulo es:\", area)\n",
        "    MenuPrincipal()"
      ],
      "metadata": {
        "id": "V6VUJtTn4xUw"
      },
      "execution_count": null,
      "outputs": []
    },
    {
      "cell_type": "code",
      "source": [
        "def Trapecio():\n",
        "    base1 = int(input(\"Digite la primera base del trapecio: \"))\n",
        "    base2 = int(input(\"Digite la segunda base del trapecio: \"))\n",
        "    altura = int(input(\"Digite la altura del trapecio: \"))\n",
        "    area = ((base1 + base2)*altura)/2\n",
        "    print (\"El area del rombo es:\", area)\n",
        "    MenuPrincipal()"
      ],
      "metadata": {
        "id": "FTA3Z35W5ZB_"
      },
      "execution_count": 3,
      "outputs": []
    },
    {
      "cell_type": "code",
      "source": [
        "def Poligono():\n",
        "    perimetro = int(input(\"Digite el perimetro del poligono regular: \"))\n",
        "    apotema = int(input(\"Digite el apotema del poligono regular: \"))\n",
        "    area =(perimetro*apotema)/2\n",
        "    print (\"El area del poligono es:\", area)\n",
        "    MenuPrincipal()"
      ],
      "metadata": {
        "id": "uGFaVzUK5cUv"
      },
      "execution_count": 2,
      "outputs": []
    }
  ]
}