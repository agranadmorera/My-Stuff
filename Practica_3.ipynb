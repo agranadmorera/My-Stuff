{
  "nbformat": 4,
  "nbformat_minor": 0,
  "metadata": {
    "colab": {
      "name": "Practica-3.ipynb",
      "provenance": [],
      "collapsed_sections": [],
      "authorship_tag": "ABX9TyPHXot9jAW5Iv9DHWDqsfjY",
      "include_colab_link": true
    },
    "kernelspec": {
      "name": "python3",
      "display_name": "Python 3"
    },
    "language_info": {
      "name": "python"
    }
  },
  "cells": [
    {
      "cell_type": "markdown",
      "metadata": {
        "id": "view-in-github",
        "colab_type": "text"
      },
      "source": [
        "<a href=\"https://colab.research.google.com/github/agranadmorera/Test2/blob/main/Practica_3.ipynb\" target=\"_parent\"><img src=\"https://colab.research.google.com/assets/colab-badge.svg\" alt=\"Open In Colab\"/></a>"
      ]
    },
    {
      "cell_type": "code",
      "source": [
        "import numpy as np\n",
        "first_trial_cyclist = [10,15,17,26]\n",
        "second_trial_cyclist = [12,11,21,24]\n",
        "np_first_trial_cyclist = np.array(first_trial_cyclist)\n",
        "np_second_trial_cyclist = np.array(second_trial_cyclist)\n",
        "np_first_trial_cyclist+np_second_trial_cyclist"
      ],
      "metadata": {
        "colab": {
          "base_uri": "https://localhost:8080/"
        },
        "id": "HQi5AjfsbJN3",
        "outputId": "430f18a3-2875-4f9b-e87d-6bbb6f2f86b0"
      },
      "execution_count": null,
      "outputs": [
        {
          "output_type": "execute_result",
          "data": {
            "text/plain": [
              "array([22, 26, 38, 50])"
            ]
          },
          "metadata": {},
          "execution_count": 9
        }
      ]
    },
    {
      "cell_type": "code",
      "source": [
        "import numpy as np"
      ],
      "metadata": {
        "id": "n3ckscw7cog_"
      },
      "execution_count": null,
      "outputs": []
    },
    {
      "cell_type": "code",
      "source": [
        "#addition\n",
        "np.add(45,20)"
      ],
      "metadata": {
        "colab": {
          "base_uri": "https://localhost:8080/"
        },
        "id": "9inf28cJcd0a",
        "outputId": "7f4220bb-1f9b-4377-f90b-9f0a41bd135b"
      },
      "execution_count": null,
      "outputs": [
        {
          "output_type": "execute_result",
          "data": {
            "text/plain": [
              "65"
            ]
          },
          "metadata": {},
          "execution_count": 15
        }
      ]
    },
    {
      "cell_type": "code",
      "source": [
        "#substraction\n",
        "np.subtract(49,23)"
      ],
      "metadata": {
        "colab": {
          "base_uri": "https://localhost:8080/"
        },
        "id": "t26NYIzvcuGl",
        "outputId": "c123f7a3-6491-45ba-8706-a881c9992cf0"
      },
      "execution_count": null,
      "outputs": [
        {
          "output_type": "execute_result",
          "data": {
            "text/plain": [
              "26"
            ]
          },
          "metadata": {},
          "execution_count": 17
        }
      ]
    },
    {
      "cell_type": "code",
      "source": [
        "# ndarray multiplication\n",
        "# create ndarray which contains number of hrs worked for 5 days\n",
        "# hourly rate is 15 USD\n",
        "np_daily_wage = np.array([7,9,13,8,11])*15"
      ],
      "metadata": {
        "id": "SFTMNFutdVKi"
      },
      "execution_count": null,
      "outputs": []
    },
    {
      "cell_type": "code",
      "source": [
        "#print hourly wage for each day\n",
        "print(np_daily_wage)"
      ],
      "metadata": {
        "colab": {
          "base_uri": "https://localhost:8080/"
        },
        "id": "6bmgIpIVdmvV",
        "outputId": "3bf7b797-5764-4fff-de17-aca997d54a60"
      },
      "execution_count": null,
      "outputs": [
        {
          "output_type": "stream",
          "name": "stdout",
          "text": [
            "[105 135 195 120 165]\n"
          ]
        }
      ]
    },
    {
      "cell_type": "code",
      "source": [
        "#total earning after 5 days\n",
        "#use sum method to add all data elements of ndarray\n",
        "sum(np_daily_wage)"
      ],
      "metadata": {
        "colab": {
          "base_uri": "https://localhost:8080/"
        },
        "id": "_Q72aSvfduuG",
        "outputId": "a0b72771-189e-47b9-8ce0-cdf9e8cc0193"
      },
      "execution_count": null,
      "outputs": [
        {
          "output_type": "execute_result",
          "data": {
            "text/plain": [
              "720"
            ]
          },
          "metadata": {},
          "execution_count": 21
        }
      ]
    },
    {
      "cell_type": "code",
      "source": [
        "#comparison operations\n",
        "#create ndarray for weekly hrs, 5 consecutive weeks hrs data\n",
        "#np_weekly_hrs = np.array([23,41,55,47,38])"
      ],
      "metadata": {
        "id": "XQv-ZVtFeIvV"
      },
      "execution_count": null,
      "outputs": []
    },
    {
      "cell_type": "code",
      "source": [
        "#week with more than 40 hrs\n",
        "np_weekly_hrs[np_weekly_hrs>40]"
      ],
      "metadata": {
        "colab": {
          "base_uri": "https://localhost:8080/"
        },
        "id": "p4u6MjwVeUXk",
        "outputId": "9aaa46c4-8324-4b8d-f1f4-0c6466de3b91"
      },
      "execution_count": null,
      "outputs": [
        {
          "output_type": "execute_result",
          "data": {
            "text/plain": [
              "array([41, 55, 47])"
            ]
          },
          "metadata": {},
          "execution_count": 23
        }
      ]
    },
    {
      "cell_type": "code",
      "source": [
        "#Logical AND operation\n",
        "np.logical_and(np_weekly_hrs>20,np_weekly_hrs<50)"
      ],
      "metadata": {
        "colab": {
          "base_uri": "https://localhost:8080/"
        },
        "id": "rUb2mB8xeb1T",
        "outputId": "5bb8f5ec-5def-4211-b90d-1cfc8d2fd316"
      },
      "execution_count": null,
      "outputs": [
        {
          "output_type": "execute_result",
          "data": {
            "text/plain": [
              "array([ True,  True, False,  True,  True])"
            ]
          },
          "metadata": {},
          "execution_count": 24
        }
      ]
    },
    {
      "cell_type": "code",
      "source": [
        "#Logical NOT operatin\n",
        "np.logical_not(np_weekly_hrs>35)"
      ],
      "metadata": {
        "colab": {
          "base_uri": "https://localhost:8080/"
        },
        "id": "ndiI8zBGe1Rw",
        "outputId": "e5f4dc29-ab0e-41d1-d5b0-631f60da9d38"
      },
      "execution_count": null,
      "outputs": [
        {
          "output_type": "execute_result",
          "data": {
            "text/plain": [
              "array([ True, False, False, False, False])"
            ]
          },
          "metadata": {},
          "execution_count": 25
        }
      ]
    },
    {
      "cell_type": "code",
      "source": [
        "cyclist_trials = np.array([[10,15,17,26],[12,11,21,24]])"
      ],
      "metadata": {
        "id": "UoRsEmZZfBxV"
      },
      "execution_count": null,
      "outputs": []
    },
    {
      "cell_type": "code",
      "source": [
        "first_trial = cyclist_trials[0]"
      ],
      "metadata": {
        "id": "RsE_kCmXfUoW"
      },
      "execution_count": null,
      "outputs": []
    },
    {
      "cell_type": "code",
      "source": [
        "first_trial"
      ],
      "metadata": {
        "colab": {
          "base_uri": "https://localhost:8080/"
        },
        "id": "bVexKRj-fZLF",
        "outputId": "ef98ecc9-a64a-4561-fa26-cb012ea13174"
      },
      "execution_count": null,
      "outputs": [
        {
          "output_type": "execute_result",
          "data": {
            "text/plain": [
              "array([10, 15, 17, 26])"
            ]
          },
          "metadata": {},
          "execution_count": 28
        }
      ]
    },
    {
      "cell_type": "code",
      "source": [
        "second_trial = cyclist_trials[1]\n",
        "second_trial"
      ],
      "metadata": {
        "colab": {
          "base_uri": "https://localhost:8080/"
        },
        "id": "2fWm6ZJxfc7-",
        "outputId": "785e19f8-3291-41e6-c5ea-5c2e232e3881"
      },
      "execution_count": null,
      "outputs": [
        {
          "output_type": "execute_result",
          "data": {
            "text/plain": [
              "array([12, 11, 21, 24])"
            ]
          },
          "metadata": {},
          "execution_count": 31
        }
      ]
    },
    {
      "cell_type": "code",
      "source": [
        ""
      ],
      "metadata": {
        "id": "6T9CegxrhDgM"
      },
      "execution_count": null,
      "outputs": []
    }
  ]
}