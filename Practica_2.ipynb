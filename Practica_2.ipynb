{
  "nbformat": 4,
  "nbformat_minor": 0,
  "metadata": {
    "colab": {
      "name": "Practica-2.ipynb",
      "provenance": [],
      "collapsed_sections": [],
      "authorship_tag": "ABX9TyNdH8fzztL4sEEzvYNHnacZ",
      "include_colab_link": true
    },
    "kernelspec": {
      "name": "python3",
      "display_name": "Python 3"
    },
    "language_info": {
      "name": "python"
    }
  },
  "cells": [
    {
      "cell_type": "markdown",
      "metadata": {
        "id": "view-in-github",
        "colab_type": "text"
      },
      "source": [
        "<a href=\"https://colab.research.google.com/github/agranadmorera/My-Stuff/blob/main/Practica_2.ipynb\" target=\"_parent\"><img src=\"https://colab.research.google.com/assets/colab-badge.svg\" alt=\"Open In Colab\"/></a>"
      ]
    },
    {
      "cell_type": "code",
      "execution_count": null,
      "metadata": {
        "colab": {
          "base_uri": "https://localhost:8080/"
        },
        "id": "4oxCyC9F3zd3",
        "outputId": "5b0bc7ff-b792-4f28-febd-76f2254a8e0c"
      },
      "outputs": [
        {
          "output_type": "execute_result",
          "data": {
            "text/plain": [
              "(68, 96, 71, 92, 87, 83)"
            ]
          },
          "metadata": {},
          "execution_count": 4
        }
      ],
      "source": [
        "test_score_1 = (68,96,71)\n",
        "test_score_2 = (92,87,83)\n",
        "\n",
        "test_score = test_score_1 + test_score_2\n",
        "test_score"
      ]
    },
    {
      "cell_type": "code",
      "source": [
        "country_list_1 = ['Angola','Uzbekistan','China','Brazil','Mexico']\n",
        "country_list_2 = ['Serbia','Turkey','Fiji']\n",
        "\n",
        "country_list_final = country_list_1 + country_list_2\n",
        "country_list_final"
      ],
      "metadata": {
        "colab": {
          "base_uri": "https://localhost:8080/"
        },
        "id": "vK9ScVg23-9q",
        "outputId": "f0778466-98f5-4bd6-da42-1180a5833142"
      },
      "execution_count": null,
      "outputs": [
        {
          "output_type": "execute_result",
          "data": {
            "text/plain": [
              "['Angola',\n",
              " 'Uzbekistan',\n",
              " 'China',\n",
              " 'Brazil',\n",
              " 'Mexico',\n",
              " 'Serbia',\n",
              " 'Turkey',\n",
              " 'Fiji']"
            ]
          },
          "metadata": {},
          "execution_count": 7
        }
      ]
    },
    {
      "cell_type": "code",
      "source": [
        "first_name = 'Chita'\n",
        "last_name = 'Umbawa'\n",
        "\n",
        "full_name = first_name+' '+last_name\n",
        "full_name"
      ],
      "metadata": {
        "colab": {
          "base_uri": "https://localhost:8080/",
          "height": 35
        },
        "id": "-PlW50Ke5XOS",
        "outputId": "c8f2d53e-4abf-4009-e135-22affa806b69"
      },
      "execution_count": null,
      "outputs": [
        {
          "output_type": "execute_result",
          "data": {
            "application/vnd.google.colaboratory.intrinsic+json": {
              "type": "string"
            },
            "text/plain": [
              "'Chita Umbawa'"
            ]
          },
          "metadata": {},
          "execution_count": 11
        }
      ]
    },
    {
      "cell_type": "code",
      "source": [
        "age = (12,17,9) * 3\n",
        "age"
      ],
      "metadata": {
        "colab": {
          "base_uri": "https://localhost:8080/"
        },
        "id": "fE2cHr9q6OPY",
        "outputId": "9cbe0c4f-e85a-4f3c-dd5e-5b23625730b4"
      },
      "execution_count": null,
      "outputs": [
        {
          "output_type": "execute_result",
          "data": {
            "text/plain": [
              "(12, 17, 9, 12, 17, 9, 12, 17, 9)"
            ]
          },
          "metadata": {},
          "execution_count": 12
        }
      ]
    },
    {
      "cell_type": "code",
      "source": [
        "ID = [101,23,77,45] * 2\n",
        "ID"
      ],
      "metadata": {
        "colab": {
          "base_uri": "https://localhost:8080/"
        },
        "id": "w3PtHXe36S5o",
        "outputId": "1c21d4c2-e2c4-4c63-8c64-ab31e2175ba4"
      },
      "execution_count": null,
      "outputs": [
        {
          "output_type": "execute_result",
          "data": {
            "text/plain": [
              "[101, 23, 77, 45, 101, 23, 77, 45]"
            ]
          },
          "metadata": {},
          "execution_count": 13
        }
      ]
    },
    {
      "cell_type": "code",
      "source": [
        "name = 'friend'*3\n",
        "name"
      ],
      "metadata": {
        "colab": {
          "base_uri": "https://localhost:8080/",
          "height": 35
        },
        "id": "hnpmkCsU6aMw",
        "outputId": "4ec1daef-85af-4138-b935-0f5a764f9b04"
      },
      "execution_count": null,
      "outputs": [
        {
          "output_type": "execute_result",
          "data": {
            "application/vnd.google.colaboratory.intrinsic+json": {
              "type": "string"
            },
            "text/plain": [
              "'friendfriendfriend'"
            ]
          },
          "metadata": {},
          "execution_count": 14
        }
      ]
    },
    {
      "cell_type": "code",
      "source": [
        "lepra = 5 ** 3\n",
        "lepra"
      ],
      "metadata": {
        "colab": {
          "base_uri": "https://localhost:8080/"
        },
        "id": "F7N4HsEc6f5g",
        "outputId": "ea3ffbb2-b0fd-49a8-ffd1-2ca08502d0a0"
      },
      "execution_count": null,
      "outputs": [
        {
          "output_type": "execute_result",
          "data": {
            "text/plain": [
              "125"
            ]
          },
          "metadata": {},
          "execution_count": 16
        }
      ]
    },
    {
      "cell_type": "code",
      "source": [
        "def add_two_numbers(num1, num2) :\n",
        "    return num1 + num2\n",
        "\n",
        "number1 = 23\n",
        "number2 = 47.5\n",
        "result = add_two_numbers(number1,number2)\n",
        "result"
      ],
      "metadata": {
        "colab": {
          "base_uri": "https://localhost:8080/"
        },
        "id": "vA9OAGYV61fj",
        "outputId": "99998eff-7234-4c76-a4a3-27dbbc158343"
      },
      "execution_count": null,
      "outputs": [
        {
          "output_type": "execute_result",
          "data": {
            "text/plain": [
              "70.5"
            ]
          },
          "metadata": {},
          "execution_count": 17
        }
      ]
    },
    {
      "cell_type": "code",
      "source": [
        "def profile() :\n",
        "    age = 21\n",
        "    height = 5.5\n",
        "    weight = 130\n",
        "    return age, height, weight\n",
        "\n",
        "age, height, weight = profile()"
      ],
      "metadata": {
        "id": "RNd1Cu1J7gC-"
      },
      "execution_count": null,
      "outputs": []
    },
    {
      "cell_type": "code",
      "source": [
        "print(age, height, weight)"
      ],
      "metadata": {
        "colab": {
          "base_uri": "https://localhost:8080/"
        },
        "id": "cQRDviaM76Cj",
        "outputId": "9095aca5-07da-4de7-8d1b-66a22195c2e4"
      },
      "execution_count": null,
      "outputs": [
        {
          "output_type": "stream",
          "name": "stdout",
          "text": [
            "21 5.5 130\n"
          ]
        }
      ]
    },
    {
      "cell_type": "code",
      "source": [
        "store_list = ['Muerta de Hambre','Cevichera','Soda del Mercado','Taco Bell','Burger King']\n",
        "\n",
        "for position, name in enumerate(store_list):\n",
        "    print(position, name)"
      ],
      "metadata": {
        "colab": {
          "base_uri": "https://localhost:8080/"
        },
        "id": "80fcky3B8BGg",
        "outputId": "6a548904-3741-4309-ac2f-b9095d622e58"
      },
      "execution_count": null,
      "outputs": [
        {
          "output_type": "stream",
          "name": "stdout",
          "text": [
            "0 Muerta de Hambre\n",
            "1 Cevichera\n",
            "2 Soda del Mercado\n",
            "3 Taco Bell\n",
            "4 Burger King\n"
          ]
        }
      ]
    },
    {
      "cell_type": "code",
      "source": [
        "store_map = dict((name, position) for position, name in enumerate(store_list))\n",
        "store_map"
      ],
      "metadata": {
        "colab": {
          "base_uri": "https://localhost:8080/"
        },
        "id": "2TCN19v29owe",
        "outputId": "e9fe3c51-7d5d-4e17-8231-7bd4cd2c3d0c"
      },
      "execution_count": null,
      "outputs": [
        {
          "output_type": "execute_result",
          "data": {
            "text/plain": [
              "{'Burger King': 4,\n",
              " 'Cevichera': 1,\n",
              " 'Muerta de Hambre': 0,\n",
              " 'Soda del Mercado': 2,\n",
              " 'Taco Bell': 3}"
            ]
          },
          "metadata": {},
          "execution_count": 38
        }
      ]
    },
    {
      "cell_type": "code",
      "source": [
        "distance = [10, 15, 17, 26]\n",
        "time = [.30, .47, .55, 1.20]\n",
        "\n",
        "import numpy as np\n",
        "\n",
        "np_distance = np.array(distance)\n",
        "np_time = np.array(time)\n",
        "speed = np_distance/np_time\n",
        "speed"
      ],
      "metadata": {
        "colab": {
          "base_uri": "https://localhost:8080/"
        },
        "id": "Ozrk12KL9tHR",
        "outputId": "aaf0b2f9-f1f5-44b3-a784-825c16cdbc6b"
      },
      "execution_count": 16,
      "outputs": [
        {
          "output_type": "execute_result",
          "data": {
            "text/plain": [
              "array([33.33333333, 31.91489362, 30.90909091, 21.66666667])"
            ]
          },
          "metadata": {},
          "execution_count": 16
        }
      ]
    },
    {
      "cell_type": "code",
      "source": [
        "#first NumPy array\n",
        "first_numpy_array = np.array([1,2,3,4])\n",
        "print(first_numpy_array)"
      ],
      "metadata": {
        "colab": {
          "base_uri": "https://localhost:8080/"
        },
        "id": "S_2hbamp-x3b",
        "outputId": "9de7460e-cd07-448d-b05e-ddb7432f1af0"
      },
      "execution_count": 20,
      "outputs": [
        {
          "output_type": "stream",
          "name": "stdout",
          "text": [
            "[1 2 3 4]\n"
          ]
        }
      ]
    },
    {
      "cell_type": "code",
      "source": [
        "#array with zeros\n",
        "array_with_zeros = np.zeros((3,3))\n",
        "array_with_zeros"
      ],
      "metadata": {
        "colab": {
          "base_uri": "https://localhost:8080/"
        },
        "id": "VyoOzXhcADNo",
        "outputId": "f242b959-74fe-4af8-bdd6-95bbb7ee1db5"
      },
      "execution_count": 21,
      "outputs": [
        {
          "output_type": "execute_result",
          "data": {
            "text/plain": [
              "array([[0., 0., 0.],\n",
              "       [0., 0., 0.],\n",
              "       [0., 0., 0.]])"
            ]
          },
          "metadata": {},
          "execution_count": 21
        }
      ]
    },
    {
      "cell_type": "code",
      "source": [
        "#array with ones\n",
        "array_with_ones = np.ones((3,3))\n",
        "array_with_ones"
      ],
      "metadata": {
        "colab": {
          "base_uri": "https://localhost:8080/"
        },
        "id": "umTQH5nh_5Ek",
        "outputId": "ce7ec2b1-750e-497d-f58a-79cacd55437a"
      },
      "execution_count": 22,
      "outputs": [
        {
          "output_type": "execute_result",
          "data": {
            "text/plain": [
              "array([[1., 1., 1.],\n",
              "       [1., 1., 1.],\n",
              "       [1., 1., 1.]])"
            ]
          },
          "metadata": {},
          "execution_count": 22
        }
      ]
    },
    {
      "cell_type": "code",
      "source": [
        "#array with empty\n",
        "array_with_empty = np.empty((2,3))\n",
        "array_with_empty"
      ],
      "metadata": {
        "colab": {
          "base_uri": "https://localhost:8080/"
        },
        "id": "j7fX-k1MAYju",
        "outputId": "d925b20e-23dd-45ef-f645-1eb92f4aa820"
      },
      "execution_count": 23,
      "outputs": [
        {
          "output_type": "execute_result",
          "data": {
            "text/plain": [
              "array([[4.63920264e-310, 0.00000000e+000, 0.00000000e+000],\n",
              "       [0.00000000e+000, 0.00000000e+000, 0.00000000e+000]])"
            ]
          },
          "metadata": {},
          "execution_count": 23
        }
      ]
    },
    {
      "cell_type": "code",
      "source": [
        "#array with arange method\n",
        "np_arange = np.arange(12)\n",
        "print(np_arange)"
      ],
      "metadata": {
        "colab": {
          "base_uri": "https://localhost:8080/"
        },
        "id": "clyjX5d6At4u",
        "outputId": "7a7f3fb3-4eb1-49b6-e6a1-b23cf0f37032"
      },
      "execution_count": 25,
      "outputs": [
        {
          "output_type": "stream",
          "name": "stdout",
          "text": [
            "[ 0  1  2  3  4  5  6  7  8  9 10 11]\n"
          ]
        }
      ]
    },
    {
      "cell_type": "code",
      "source": [
        "#reshape method to change/ create array\n",
        "np_arange.reshape(3,4)"
      ],
      "metadata": {
        "colab": {
          "base_uri": "https://localhost:8080/"
        },
        "id": "X2VyWttXA4uJ",
        "outputId": "cf420a24-252b-4e9b-ef11-6915abf7ae7e"
      },
      "execution_count": 26,
      "outputs": [
        {
          "output_type": "execute_result",
          "data": {
            "text/plain": [
              "array([[ 0,  1,  2,  3],\n",
              "       [ 4,  5,  6,  7],\n",
              "       [ 8,  9, 10, 11]])"
            ]
          },
          "metadata": {},
          "execution_count": 26
        }
      ]
    },
    {
      "cell_type": "code",
      "source": [
        "#linspace for linearly (equal) spaced data elements\n",
        "np_linspace = np.linspace(1,6,5)\n",
        "print(np_linspace)"
      ],
      "metadata": {
        "colab": {
          "base_uri": "https://localhost:8080/"
        },
        "id": "ieS2lk0PBxMO",
        "outputId": "1b483e91-2143-4e58-e43c-1235d5797345"
      },
      "execution_count": 27,
      "outputs": [
        {
          "output_type": "stream",
          "name": "stdout",
          "text": [
            "[1.   2.25 3.5  4.75 6.  ]\n"
          ]
        }
      ]
    },
    {
      "cell_type": "code",
      "source": [
        "#One dimensional array\n",
        "oneD_array = np.arange(15)\n",
        "print(oneD_array)"
      ],
      "metadata": {
        "colab": {
          "base_uri": "https://localhost:8080/"
        },
        "id": "IMI846WWCAoB",
        "outputId": "683dc078-dff3-4a3d-b7cf-efc4ce8f28b6"
      },
      "execution_count": 29,
      "outputs": [
        {
          "output_type": "stream",
          "name": "stdout",
          "text": [
            "[ 0  1  2  3  4  5  6  7  8  9 10 11 12 13 14]\n"
          ]
        }
      ]
    },
    {
      "cell_type": "code",
      "source": [
        "#Two dimensional array\n",
        "TwoD_array = oneD_array.reshape(3,5)\n",
        "print(TwoD_array)"
      ],
      "metadata": {
        "colab": {
          "base_uri": "https://localhost:8080/"
        },
        "id": "Wv55Dm5mCMO8",
        "outputId": "e14466b8-a6bf-4290-a07a-0959b3354958"
      },
      "execution_count": 33,
      "outputs": [
        {
          "output_type": "stream",
          "name": "stdout",
          "text": [
            "[[ 0  1  2  3  4]\n",
            " [ 5  6  7  8  9]\n",
            " [10 11 12 13 14]]\n"
          ]
        }
      ]
    },
    {
      "cell_type": "code",
      "source": [
        "np_linspace = np.linspace(4,13,7)\n",
        "print(np_linspace)"
      ],
      "metadata": {
        "colab": {
          "base_uri": "https://localhost:8080/"
        },
        "id": "sHI5nzvSVjZX",
        "outputId": "f249c44c-f45f-466e-8363-8da79684ed56"
      },
      "execution_count": 34,
      "outputs": [
        {
          "output_type": "stream",
          "name": "stdout",
          "text": [
            "[ 4.   5.5  7.   8.5 10.  11.5 13. ]\n"
          ]
        }
      ]
    }
  ]
}