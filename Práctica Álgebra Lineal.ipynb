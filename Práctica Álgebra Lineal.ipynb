{
 "cells": [
  {
   "cell_type": "code",
   "execution_count": 1,
   "id": "7d82e51f",
   "metadata": {},
   "outputs": [
    {
     "data": {
      "text/plain": [
       "LinearAlgebra"
      ]
     },
     "execution_count": 1,
     "metadata": {},
     "output_type": "execute_result"
    }
   ],
   "source": [
    "import LinearAlgebra as la #or\n",
    "import LinearAlgebra\n",
    "const LinearAlgebra = la"
   ]
  },
  {
   "cell_type": "code",
   "execution_count": 6,
   "id": "f73320ad",
   "metadata": {},
   "outputs": [
    {
     "name": "stderr",
     "output_type": "stream",
     "text": [
      "\u001b[32m\u001b[1m    Updating\u001b[22m\u001b[39m registry at `C:\\Users\\cgranados\\.julia\\registries\\General.toml`\n",
      "\u001b[32m\u001b[1m   Resolving\u001b[22m\u001b[39m package versions...\n",
      "\u001b[32m\u001b[1m   Installed\u001b[22m\u001b[39m Animations ─ v0.4.1\n",
      "\u001b[32m\u001b[1m    Updating\u001b[22m\u001b[39m `C:\\Users\\cgranados\\.julia\\environments\\v1.7\\Project.toml`\n",
      " \u001b[90m [27a7e980] \u001b[39m\u001b[92m+ Animations v0.4.1\u001b[39m\n",
      "\u001b[32m\u001b[1m    Updating\u001b[22m\u001b[39m `C:\\Users\\cgranados\\.julia\\environments\\v1.7\\Manifest.toml`\n",
      " \u001b[90m [27a7e980] \u001b[39m\u001b[92m+ Animations v0.4.1\u001b[39m\n",
      "\u001b[32m\u001b[1mPrecompiling\u001b[22m\u001b[39m project...\n",
      "\u001b[32m  ✓ \u001b[39mAnimations\n",
      "  1 dependency successfully precompiled in 5 seconds (199 already precompiled)\n"
     ]
    }
   ],
   "source": [
    "import Pkg; Pkg.add(\"Animations\")"
   ]
  },
  {
   "cell_type": "code",
   "execution_count": 8,
   "id": "6d240bcb",
   "metadata": {},
   "outputs": [
    {
     "name": "stderr",
     "output_type": "stream",
     "text": [
      "\u001b[32m\u001b[1m   Resolving\u001b[22m\u001b[39m package versions...\n",
      "\u001b[32m\u001b[1m   Installed\u001b[22m\u001b[39m gdk_pixbuf_jll ─ v2.42.6+1\n",
      "\u001b[32m\u001b[1m   Installed\u001b[22m\u001b[39m Librsvg_jll ──── v2.52.4+0\n",
      "\u001b[32m\u001b[1m   Installed\u001b[22m\u001b[39m Media ────────── v0.5.0\n",
      "\u001b[32m\u001b[1m   Installed\u001b[22m\u001b[39m Pango_jll ────── v1.50.3+0\n",
      "\u001b[32m\u001b[1m   Installed\u001b[22m\u001b[39m Graphics ─────── v1.1.2\n",
      "\u001b[32m\u001b[1m   Installed\u001b[22m\u001b[39m Rsvg ─────────── v1.0.0\n",
      "\u001b[32m\u001b[1m   Installed\u001b[22m\u001b[39m LightXML ─────── v0.9.0\n",
      "\u001b[32m\u001b[1m   Installed\u001b[22m\u001b[39m Juno ─────────── v0.8.4\n",
      "\u001b[32m\u001b[1m   Installed\u001b[22m\u001b[39m Cairo ────────── v1.0.5\n",
      "\u001b[32m\u001b[1m   Installed\u001b[22m\u001b[39m Javis ────────── v0.1.5\n",
      "\u001b[32m\u001b[1m   Installed\u001b[22m\u001b[39m Luxor ────────── v2.19.0\n",
      "\u001b[32m\u001b[1m    Updating\u001b[22m\u001b[39m `C:\\Users\\cgranados\\.julia\\environments\\v1.7\\Project.toml`\n",
      " \u001b[90m [78b212ba] \u001b[39m\u001b[92m+ Javis v0.1.5\u001b[39m\n",
      "\u001b[32m\u001b[1m    Updating\u001b[22m\u001b[39m `C:\\Users\\cgranados\\.julia\\environments\\v1.7\\Manifest.toml`\n",
      " \u001b[90m [159f3aea] \u001b[39m\u001b[92m+ Cairo v1.0.5\u001b[39m\n",
      " \u001b[90m [a2bd30eb] \u001b[39m\u001b[92m+ Graphics v1.1.2\u001b[39m\n",
      " \u001b[90m [78b212ba] \u001b[39m\u001b[92m+ Javis v0.1.5\u001b[39m\n",
      " \u001b[90m [e5e0dc1b] \u001b[39m\u001b[92m+ Juno v0.8.4\u001b[39m\n",
      " \u001b[90m [9c8b4983] \u001b[39m\u001b[92m+ LightXML v0.9.0\u001b[39m\n",
      " \u001b[90m [ae8d54c2] \u001b[39m\u001b[92m+ Luxor v2.19.0\u001b[39m\n",
      " \u001b[90m [e89f7d12] \u001b[39m\u001b[92m+ Media v0.5.0\u001b[39m\n",
      " \u001b[90m [c4c386cf] \u001b[39m\u001b[92m+ Rsvg v1.0.0\u001b[39m\n",
      " \u001b[90m [925c91fb] \u001b[39m\u001b[92m+ Librsvg_jll v2.52.4+0\u001b[39m\n",
      " \u001b[90m [36c8627f] \u001b[39m\u001b[92m+ Pango_jll v1.50.3+0\u001b[39m\n",
      " \u001b[90m [da03df04] \u001b[39m\u001b[92m+ gdk_pixbuf_jll v2.42.6+1\u001b[39m\n",
      " \u001b[90m [9abbd945] \u001b[39m\u001b[92m+ Profile\u001b[39m\n",
      "\u001b[32m\u001b[1mPrecompiling\u001b[22m\u001b[39m project...\n",
      "\u001b[32m  ✓ \u001b[39m\u001b[90mLightXML\u001b[39m\n",
      "\u001b[32m  ✓ \u001b[39m\u001b[90mGraphics\u001b[39m\n",
      "\u001b[32m  ✓ \u001b[39m\u001b[90mMedia\u001b[39m\n",
      "\u001b[32m  ✓ \u001b[39m\u001b[90mgdk_pixbuf_jll\u001b[39m\n",
      "\u001b[32m  ✓ \u001b[39m\u001b[90mJuno\u001b[39m\n",
      "\u001b[32m  ✓ \u001b[39m\u001b[90mPango_jll\u001b[39m\n",
      "\u001b[32m  ✓ \u001b[39m\u001b[90mLibrsvg_jll\u001b[39m\n",
      "\u001b[32m  ✓ \u001b[39m\u001b[90mCairo\u001b[39m\n",
      "\u001b[32m  ✓ \u001b[39m\u001b[90mRsvg\u001b[39m\n",
      "\u001b[32m  ✓ \u001b[39m\u001b[90mLuxor\u001b[39m\n",
      "\u001b[32m  ✓ \u001b[39mJavis\n",
      "  11 dependencies successfully precompiled in 18 seconds (200 already precompiled)\n"
     ]
    }
   ],
   "source": [
    "import Pkg; Pkg.add(\"Javis\")"
   ]
  },
  {
   "cell_type": "code",
   "execution_count": 9,
   "id": "de42d87b",
   "metadata": {},
   "outputs": [
    {
     "name": "stderr",
     "output_type": "stream",
     "text": [
      "\u001b[32m\u001b[1m   Resolving\u001b[22m\u001b[39m package versions...\n",
      "\u001b[32m\u001b[1m   Installed\u001b[22m\u001b[39m ConstructionBase ─ v1.4.0\n",
      "\u001b[32m\u001b[1m   Installed\u001b[22m\u001b[39m Unitful ────────── v1.11.0\n",
      "\u001b[32m\u001b[1m    Updating\u001b[22m\u001b[39m `C:\\Users\\cgranados\\.julia\\environments\\v1.7\\Project.toml`\n",
      " \u001b[90m [1986cc42] \u001b[39m\u001b[92m+ Unitful v1.11.0\u001b[39m\n",
      "\u001b[32m\u001b[1m    Updating\u001b[22m\u001b[39m `C:\\Users\\cgranados\\.julia\\environments\\v1.7\\Manifest.toml`\n",
      " \u001b[90m [187b0558] \u001b[39m\u001b[92m+ ConstructionBase v1.4.0\u001b[39m\n",
      " \u001b[90m [1986cc42] \u001b[39m\u001b[92m+ Unitful v1.11.0\u001b[39m\n",
      "\u001b[32m\u001b[1mPrecompiling\u001b[22m\u001b[39m project...\n",
      "\u001b[32m  ✓ \u001b[39m\u001b[90mConstructionBase\u001b[39m\n",
      "\u001b[32m  ✓ \u001b[39mUnitful\n",
      "  2 dependencies successfully precompiled in 23 seconds (211 already precompiled)\n",
      "\u001b[32m\u001b[1m   Resolving\u001b[22m\u001b[39m package versions...\n",
      "\u001b[32m\u001b[1m   Installed\u001b[22m\u001b[39m PeriodicTable ─ v1.1.2\n",
      "\u001b[32m\u001b[1m    Updating\u001b[22m\u001b[39m `C:\\Users\\cgranados\\.julia\\environments\\v1.7\\Project.toml`\n",
      " \u001b[90m [7b2266bf] \u001b[39m\u001b[92m+ PeriodicTable v1.1.2\u001b[39m\n",
      "\u001b[32m\u001b[1m    Updating\u001b[22m\u001b[39m `C:\\Users\\cgranados\\.julia\\environments\\v1.7\\Manifest.toml`\n",
      " \u001b[90m [7b2266bf] \u001b[39m\u001b[92m+ PeriodicTable v1.1.2\u001b[39m\n",
      "\u001b[32m\u001b[1mPrecompiling\u001b[22m\u001b[39m project...\n",
      "\u001b[32m  ✓ \u001b[39mPeriodicTable\n",
      "  1 dependency successfully precompiled in 4 seconds (213 already precompiled)\n"
     ]
    }
   ],
   "source": [
    "import Pkg; Pkg.add(\"Unitful\")\n",
    "import Pkg; Pkg.add(\"PeriodicTable\")"
   ]
  },
  {
   "cell_type": "code",
   "execution_count": 10,
   "id": "dd9acafe",
   "metadata": {},
   "outputs": [],
   "source": [
    "using Animations\n",
    "using Javis\n",
    "using PeriodicTable\n",
    "using Unitful"
   ]
  },
  {
   "cell_type": "code",
   "execution_count": 13,
   "id": "81665390",
   "metadata": {},
   "outputs": [
    {
     "data": {
      "text/plain": [
       "10-element Vector{Int64}:\n",
       " 0\n",
       " 0\n",
       " 0\n",
       " 0\n",
       " 0\n",
       " 0\n",
       " 0\n",
       " 0\n",
       " 0\n",
       " 0"
      ]
     },
     "execution_count": 13,
     "metadata": {},
     "output_type": "execute_result"
    }
   ],
   "source": [
    "a = zeros(Int64,10)"
   ]
  },
  {
   "cell_type": "code",
   "execution_count": 14,
   "id": "8ad9b340",
   "metadata": {},
   "outputs": [
    {
     "data": {
      "text/plain": [
       "80"
      ]
     },
     "execution_count": 14,
     "metadata": {},
     "output_type": "execute_result"
    }
   ],
   "source": [
    "sizeof(a)\n",
    "length(a)*sizeof(eltype(a))"
   ]
  },
  {
   "cell_type": "code",
   "execution_count": 15,
   "id": "4cd8b4d7",
   "metadata": {
    "scrolled": true
   },
   "outputs": [
    {
     "name": "stdout",
     "output_type": "stream",
     "text": [
      "search: \u001b[0m\u001b[1mz\u001b[22m\u001b[0m\u001b[1me\u001b[22m\u001b[0m\u001b[1mr\u001b[22m\u001b[0m\u001b[1mo\u001b[22m\u001b[0m\u001b[1ms\u001b[22m count_\u001b[0m\u001b[1mz\u001b[22m\u001b[0m\u001b[1me\u001b[22m\u001b[0m\u001b[1mr\u001b[22m\u001b[0m\u001b[1mo\u001b[22m\u001b[0m\u001b[1ms\u001b[22m set_\u001b[0m\u001b[1mz\u001b[22m\u001b[0m\u001b[1me\u001b[22m\u001b[0m\u001b[1mr\u001b[22m\u001b[0m\u001b[1mo\u001b[22m_\u001b[0m\u001b[1ms\u001b[22mubnormals get_\u001b[0m\u001b[1mz\u001b[22m\u001b[0m\u001b[1me\u001b[22m\u001b[0m\u001b[1mr\u001b[22m\u001b[0m\u001b[1mo\u001b[22m_\u001b[0m\u001b[1ms\u001b[22mubnormals leading_\u001b[0m\u001b[1mz\u001b[22m\u001b[0m\u001b[1me\u001b[22m\u001b[0m\u001b[1mr\u001b[22m\u001b[0m\u001b[1mo\u001b[22m\u001b[0m\u001b[1ms\u001b[22m\n",
      "\n"
     ]
    },
    {
     "data": {
      "text/latex": [
       "\\begin{verbatim}\n",
       "zeros([T=Float64,] dims::Tuple)\n",
       "zeros([T=Float64,] dims...)\n",
       "\\end{verbatim}\n",
       "Create an \\texttt{Array}, with element type \\texttt{T}, of all zeros with size specified by \\texttt{dims}. See also \\href{@ref}{\\texttt{fill}}, \\href{@ref}{\\texttt{ones}}, \\href{@ref}{\\texttt{zero}}.\n",
       "\n",
       "\\section{Examples}\n",
       "\\begin{verbatim}\n",
       "julia> zeros(1)\n",
       "1-element Vector{Float64}:\n",
       " 0.0\n",
       "\n",
       "julia> zeros(Int8, 2, 3)\n",
       "2×3 Matrix{Int8}:\n",
       " 0  0  0\n",
       " 0  0  0\n",
       "\\end{verbatim}\n"
      ],
      "text/markdown": [
       "```\n",
       "zeros([T=Float64,] dims::Tuple)\n",
       "zeros([T=Float64,] dims...)\n",
       "```\n",
       "\n",
       "Create an `Array`, with element type `T`, of all zeros with size specified by `dims`. See also [`fill`](@ref), [`ones`](@ref), [`zero`](@ref).\n",
       "\n",
       "# Examples\n",
       "\n",
       "```jldoctest\n",
       "julia> zeros(1)\n",
       "1-element Vector{Float64}:\n",
       " 0.0\n",
       "\n",
       "julia> zeros(Int8, 2, 3)\n",
       "2×3 Matrix{Int8}:\n",
       " 0  0  0\n",
       " 0  0  0\n",
       "```\n"
      ],
      "text/plain": [
       "\u001b[36m  zeros([T=Float64,] dims::Tuple)\u001b[39m\n",
       "\u001b[36m  zeros([T=Float64,] dims...)\u001b[39m\n",
       "\n",
       "  Create an \u001b[36mArray\u001b[39m, with element type \u001b[36mT\u001b[39m, of all zeros with size specified by\n",
       "  \u001b[36mdims\u001b[39m. See also \u001b[36mfill\u001b[39m, \u001b[36mones\u001b[39m, \u001b[36mzero\u001b[39m.\n",
       "\n",
       "\u001b[1m  Examples\u001b[22m\n",
       "\u001b[1m  ≡≡≡≡≡≡≡≡≡≡\u001b[22m\n",
       "\n",
       "\u001b[36m  julia> zeros(1)\u001b[39m\n",
       "\u001b[36m  1-element Vector{Float64}:\u001b[39m\n",
       "\u001b[36m   0.0\u001b[39m\n",
       "\u001b[36m  \u001b[39m\n",
       "\u001b[36m  julia> zeros(Int8, 2, 3)\u001b[39m\n",
       "\u001b[36m  2×3 Matrix{Int8}:\u001b[39m\n",
       "\u001b[36m   0  0  0\u001b[39m\n",
       "\u001b[36m   0  0  0\u001b[39m"
      ]
     },
     "execution_count": 15,
     "metadata": {},
     "output_type": "execute_result"
    }
   ],
   "source": [
    "?zeros"
   ]
  },
  {
   "cell_type": "code",
   "execution_count": 16,
   "id": "308f140a",
   "metadata": {},
   "outputs": [
    {
     "data": {
      "text/plain": [
       "1"
      ]
     },
     "execution_count": 16,
     "metadata": {},
     "output_type": "execute_result"
    }
   ],
   "source": [
    "a = zeros(Int,10)\n",
    "a[5] = 1"
   ]
  },
  {
   "cell_type": "code",
   "execution_count": 17,
   "id": "1d61adce",
   "metadata": {},
   "outputs": [
    {
     "data": {
      "text/plain": [
       "40-element Vector{Int64}:\n",
       " 10\n",
       " 11\n",
       " 12\n",
       " 13\n",
       " 14\n",
       " 15\n",
       " 16\n",
       " 17\n",
       " 18\n",
       " 19\n",
       " 20\n",
       " 21\n",
       " 22\n",
       "  ⋮\n",
       " 38\n",
       " 39\n",
       " 40\n",
       " 41\n",
       " 42\n",
       " 43\n",
       " 44\n",
       " 45\n",
       " 46\n",
       " 47\n",
       " 48\n",
       " 49"
      ]
     },
     "execution_count": 17,
     "metadata": {},
     "output_type": "execute_result"
    }
   ],
   "source": [
    "a = [10:49;]\n",
    "a = collect(10:49)"
   ]
  },
  {
   "cell_type": "code",
   "execution_count": 18,
   "id": "9e5a9181",
   "metadata": {},
   "outputs": [
    {
     "data": {
      "text/plain": [
       "40-element Vector{Int64}:\n",
       " 49\n",
       " 48\n",
       " 47\n",
       " 46\n",
       " 45\n",
       " 44\n",
       " 43\n",
       " 42\n",
       " 41\n",
       " 40\n",
       " 39\n",
       " 38\n",
       " 37\n",
       "  ⋮\n",
       " 21\n",
       " 20\n",
       " 19\n",
       " 18\n",
       " 17\n",
       " 16\n",
       " 15\n",
       " 14\n",
       " 13\n",
       " 12\n",
       " 11\n",
       " 10"
      ]
     },
     "execution_count": 18,
     "metadata": {},
     "output_type": "execute_result"
    }
   ],
   "source": [
    "a[end:-1:1] #faster\n",
    "reverse(a)\n",
    "reverse!(a) #inplace"
   ]
  },
  {
   "cell_type": "code",
   "execution_count": 19,
   "id": "ab890bb5",
   "metadata": {},
   "outputs": [
    {
     "data": {
      "text/plain": [
       "3×3 reshape(::UnitRange{Int64}, 3, 3) with eltype Int64:\n",
       " 0  3  6\n",
       " 1  4  7\n",
       " 2  5  8"
      ]
     },
     "execution_count": 19,
     "metadata": {},
     "output_type": "execute_result"
    }
   ],
   "source": [
    "a = reshape(0:8,3,3)"
   ]
  },
  {
   "cell_type": "code",
   "execution_count": 26,
   "id": "c6e1a201",
   "metadata": {},
   "outputs": [
    {
     "data": {
      "text/plain": [
       "3×4 reshape(::UnitRange{Int64}, 3, 4) with eltype Int64:\n",
       " 0  3  6   9\n",
       " 1  4  7  10\n",
       " 2  5  8  11"
      ]
     },
     "execution_count": 26,
     "metadata": {},
     "output_type": "execute_result"
    }
   ],
   "source": [
    "a = reshape(0:11,3,4)"
   ]
  },
  {
   "cell_type": "code",
   "execution_count": 20,
   "id": "2bda3ef1",
   "metadata": {},
   "outputs": [
    {
     "data": {
      "text/plain": [
       "8-element Vector{CartesianIndex{2}}:\n",
       " CartesianIndex(2, 1)\n",
       " CartesianIndex(3, 1)\n",
       " CartesianIndex(1, 2)\n",
       " CartesianIndex(2, 2)\n",
       " CartesianIndex(3, 2)\n",
       " CartesianIndex(1, 3)\n",
       " CartesianIndex(2, 3)\n",
       " CartesianIndex(3, 3)"
      ]
     },
     "execution_count": 20,
     "metadata": {},
     "output_type": "execute_result"
    }
   ],
   "source": [
    "findall(!isequal(0),a)\n",
    "findall(!iszero,a)\n",
    "findall(!=(0),a)"
   ]
  },
  {
   "cell_type": "code",
   "execution_count": 21,
   "id": "bbbbd5c8",
   "metadata": {},
   "outputs": [
    {
     "data": {
      "text/plain": [
       "3×3 Matrix{Float64}:\n",
       " 1.0  0.0  0.0\n",
       " 0.0  1.0  0.0\n",
       " 0.0  0.0  1.0"
      ]
     },
     "execution_count": 21,
     "metadata": {},
     "output_type": "execute_result"
    }
   ],
   "source": [
    "using LinearAlgebra\n",
    "a = I(3)\n",
    "a = Matrix(1.0I,3,3)"
   ]
  },
  {
   "cell_type": "code",
   "execution_count": 22,
   "id": "87158458",
   "metadata": {},
   "outputs": [
    {
     "data": {
      "text/plain": [
       "3×3×3 Array{Float64, 3}:\n",
       "[:, :, 1] =\n",
       " -0.406652   0.370825  -0.875568\n",
       " -0.0911162  0.912426  -0.183093\n",
       "  0.885836   0.802659  -1.28124\n",
       "\n",
       "[:, :, 2] =\n",
       "  0.673902  -0.395175  -0.0552175\n",
       "  0.272535   0.4158    -0.637409\n",
       " -1.38995   -0.333023   0.640275\n",
       "\n",
       "[:, :, 3] =\n",
       " 0.222694  0.201205  -0.50176\n",
       " 0.982581  0.1885     0.326771\n",
       " 0.784697  0.583346  -0.331677"
      ]
     },
     "execution_count": 22,
     "metadata": {},
     "output_type": "execute_result"
    }
   ],
   "source": [
    "a = rand(3,3,3) #numbers in the range 0 to 1\n",
    "b = randn(3,3,3) #Gaussian random numbers"
   ]
  },
  {
   "cell_type": "code",
   "execution_count": 23,
   "id": "62bd360e",
   "metadata": {},
   "outputs": [
    {
     "data": {
      "text/plain": [
       "(0.010956009885386808, 0.9950141006535137)"
      ]
     },
     "execution_count": 23,
     "metadata": {},
     "output_type": "execute_result"
    }
   ],
   "source": [
    "a = rand(10,10)\n",
    "minm = minimum(a)\n",
    "maxm = maximum(a)\n",
    "minm, maxm = extrema(a)"
   ]
  },
  {
   "cell_type": "code",
   "execution_count": 27,
   "id": "0de05871",
   "metadata": {},
   "outputs": [
    {
     "data": {
      "text/plain": [
       "0.4725820334972539"
      ]
     },
     "execution_count": 27,
     "metadata": {},
     "output_type": "execute_result"
    }
   ],
   "source": [
    "using Statistics\n",
    "a = rand(30) #rand(30,)\n",
    "b = mean(a)"
   ]
  },
  {
   "cell_type": "code",
   "execution_count": 28,
   "id": "f692453a",
   "metadata": {},
   "outputs": [
    {
     "data": {
      "text/plain": [
       "5×5 Matrix{Float64}:\n",
       " 0.0086558  0.66705   0.580562  0.237475   0.22059\n",
       " 0.380458   0.831228  0.919756  0.135894   0.343454\n",
       " 0.931539   0.451081  0.208204  0.480797   0.535672\n",
       " 0.705826   0.135295  0.87461   0.0525574  0.757232\n",
       " 0.302244   0.301708  0.623066  0.813865   0.256428"
      ]
     },
     "execution_count": 28,
     "metadata": {},
     "output_type": "execute_result"
    }
   ],
   "source": [
    "a = rand(5, 5)\n",
    "b = zeros(Float64, size(a,1) + 2, size(a,2) + 2) # b = zeros(eltype(a), size(a) .+1)\n",
    "b[2:end-1, 2:end-1] = a"
   ]
  },
  {
   "cell_type": "code",
   "execution_count": 31,
   "id": "2af197e2",
   "metadata": {},
   "outputs": [
    {
     "data": {
      "text/plain": [
       "5×5 Bidiagonal{Float64, Vector{Float64}}:\n",
       " 0.0   ⋅    ⋅    ⋅    ⋅ \n",
       " 1.0  0.0   ⋅    ⋅    ⋅ \n",
       "  ⋅   2.0  0.0   ⋅    ⋅ \n",
       "  ⋅    ⋅   3.0  0.0   ⋅ \n",
       "  ⋅    ⋅    ⋅   4.0  0.0"
      ]
     },
     "execution_count": 31,
     "metadata": {},
     "output_type": "execute_result"
    }
   ],
   "source": [
    "a = Bidiagonal(zeros(5,), collect(1:4), :L)"
   ]
  },
  {
   "cell_type": "code",
   "execution_count": 32,
   "id": "ca85cb6b",
   "metadata": {},
   "outputs": [
    {
     "data": {
      "text/plain": [
       "8×8 Matrix{Int64}:\n",
       " 0  1  0  1  0  1  0  1\n",
       " 1  0  1  0  1  0  1  0\n",
       " 0  1  0  1  0  1  0  1\n",
       " 1  0  1  0  1  0  1  0\n",
       " 0  1  0  1  0  1  0  1\n",
       " 1  0  1  0  1  0  1  0\n",
       " 0  1  0  1  0  1  0  1\n",
       " 1  0  1  0  1  0  1  0"
      ]
     },
     "execution_count": 32,
     "metadata": {},
     "output_type": "execute_result"
    }
   ],
   "source": [
    "a = zeros(Int64, 8, 8)\n",
    "a[1:2:end, 1:2:end] .= 1\n",
    "a[2:2:end, 2:2:end] .= 1 #or\n",
    "a = [Int(isodd(i+j)) for i in 1:8, j in 1:8]"
   ]
  },
  {
   "cell_type": "code",
   "execution_count": 35,
   "id": "7c204d95",
   "metadata": {},
   "outputs": [
    {
     "data": {
      "text/plain": [
       "CartesianIndex(4, 3, 3)"
      ]
     },
     "execution_count": 35,
     "metadata": {},
     "output_type": "execute_result"
    }
   ],
   "source": [
    "m = 100\n",
    "n, p, r = 6, 7, 8\n",
    "page = Int64(ceil(m/n/p))\n",
    "col = Int64(ceil((m-(page-1)*n*p)/n))\n",
    "row = Int64(ceil((m-(page-1)*n*p-(col-1)*n)/n))\n",
    "\n",
    "CartesianIndices((6, 7, 8))[m] #builtin command"
   ]
  },
  {
   "cell_type": "code",
   "execution_count": 36,
   "id": "50d3cc6f",
   "metadata": {},
   "outputs": [
    {
     "data": {
      "text/plain": [
       "8×8 Matrix{Int64}:\n",
       " 1  0  1  0  1  0  1  0\n",
       " 0  1  0  1  0  1  0  1\n",
       " 1  0  1  0  1  0  1  0\n",
       " 0  1  0  1  0  1  0  1\n",
       " 1  0  1  0  1  0  1  0\n",
       " 0  1  0  1  0  1  0  1\n",
       " 1  0  1  0  1  0  1  0\n",
       " 0  1  0  1  0  1  0  1"
      ]
     },
     "execution_count": 36,
     "metadata": {},
     "output_type": "execute_result"
    }
   ],
   "source": [
    "repeat([1 0;0 1], 4, 4)"
   ]
  },
  {
   "cell_type": "code",
   "execution_count": 37,
   "id": "61fc924d",
   "metadata": {},
   "outputs": [
    {
     "data": {
      "text/plain": [
       "5×5 Matrix{Float64}:\n",
       " 0.281285  0.231453   0.0       0.570824  0.552566\n",
       " 0.605775  0.313041   0.643971  0.263395  0.870787\n",
       " 0.566585  0.922843   0.22214   0.668521  0.358981\n",
       " 0.418636  0.0514331  0.244294  1.0       0.00795952\n",
       " 0.363396  0.644681   0.44372   0.37264   0.583651"
      ]
     },
     "execution_count": 37,
     "metadata": {},
     "output_type": "execute_result"
    }
   ],
   "source": [
    "a = randn(5, 5)\n",
    "a = a .- minimum(a)\n",
    "a = a./maximum(a)"
   ]
  },
  {
   "cell_type": "code",
   "execution_count": 39,
   "id": "fd923bde",
   "metadata": {},
   "outputs": [],
   "source": [
    "mutable struct color\n",
    "    R::UInt8\n",
    "    G::UInt8\n",
    "    B::UInt8\n",
    "    A::UInt8\n",
    "end"
   ]
  },
  {
   "cell_type": "code",
   "execution_count": 40,
   "id": "103ad95a",
   "metadata": {},
   "outputs": [
    {
     "data": {
      "text/plain": [
       "5×2 Matrix{Float64}:\n",
       " 0.304558   0.449231\n",
       " 0.13708    0.361946\n",
       " 0.0702985  0.256702\n",
       " 0.451667   0.884323\n",
       " 0.243583   0.274758"
      ]
     },
     "execution_count": 40,
     "metadata": {},
     "output_type": "execute_result"
    }
   ],
   "source": [
    "a = rand(5, 3); b = rand(3, 2)\n",
    "c = a*b"
   ]
  },
  {
   "cell_type": "code",
   "execution_count": 42,
   "id": "578df1d5",
   "metadata": {},
   "outputs": [
    {
     "data": {
      "text/plain": [
       "0-element view(::Vector{Int64}, Int64[]) with eltype Int64"
      ]
     },
     "execution_count": 42,
     "metadata": {},
     "output_type": "execute_result"
    }
   ],
   "source": [
    "a = 3;b = 8;\n",
    "x = rand(1:10,20) # collect(1:10)\n",
    "x[a .<= x .<= b] .= -x[a .<= x .<= b] #or\n",
    "x[a .<= x .<= b] .*= -1."
   ]
  },
  {
   "cell_type": "code",
   "execution_count": 45,
   "id": "aa8d3e59",
   "metadata": {},
   "outputs": [
    {
     "data": {
      "text/plain": [
       "-5.0"
      ]
     },
     "execution_count": 45,
     "metadata": {},
     "output_type": "execute_result"
    }
   ],
   "source": [
    "round.(-4.5, RoundNearestTiesAway)"
   ]
  },
  {
   "cell_type": "code",
   "execution_count": 48,
   "id": "d1b6a1c0",
   "metadata": {},
   "outputs": [
    {
     "data": {
      "text/plain": [
       "2022-07-29"
      ]
     },
     "execution_count": 48,
     "metadata": {},
     "output_type": "execute_result"
    }
   ],
   "source": [
    "using Dates\n",
    "tod = today()\n",
    "tom = tod + Day(1)\n",
    "yes = tod + Day(-1)"
   ]
  },
  {
   "cell_type": "code",
   "execution_count": 49,
   "id": "cf5c55f3",
   "metadata": {},
   "outputs": [
    {
     "data": {
      "text/plain": [
       "21-element Vector{Date}:\n",
       " 1988-03-01\n",
       " 1988-03-02\n",
       " 1988-03-03\n",
       " 1988-03-04\n",
       " 1988-03-05\n",
       " 1988-03-06\n",
       " 1988-03-07\n",
       " 1988-03-08\n",
       " 1988-03-09\n",
       " 1988-03-10\n",
       " 1988-03-11\n",
       " 1988-03-12\n",
       " 1988-03-13\n",
       " 1988-03-14\n",
       " 1988-03-15\n",
       " 1988-03-16\n",
       " 1988-03-17\n",
       " 1988-03-18\n",
       " 1988-03-19\n",
       " 1988-03-20\n",
       " 1988-03-21"
      ]
     },
     "execution_count": 49,
     "metadata": {},
     "output_type": "execute_result"
    }
   ],
   "source": [
    "using Dates\n",
    "mon = collect(Date(1988,3,1):Day(1):Date(1988, 3, 21))"
   ]
  },
  {
   "cell_type": "code",
   "execution_count": 50,
   "id": "5637d3e4",
   "metadata": {},
   "outputs": [
    {
     "data": {
      "text/plain": [
       "2×2 Matrix{Float64}:\n",
       " -0.112221  -0.0198014\n",
       " -0.277931  -0.0962351"
      ]
     },
     "execution_count": 50,
     "metadata": {},
     "output_type": "execute_result"
    }
   ],
   "source": [
    "A = rand(2, 2); B = rand(2, 2)\n",
    "@. A = ((A+B)*(-A/2))"
   ]
  },
  {
   "cell_type": "code",
   "execution_count": 52,
   "id": "3612e2d1",
   "metadata": {},
   "outputs": [
    {
     "data": {
      "text/plain": [
       "1×10 Matrix{Int64}:\n",
       " 1  8  1  5  8  3  8  6  3  5"
      ]
     },
     "execution_count": 52,
     "metadata": {},
     "output_type": "execute_result"
    }
   ],
   "source": [
    "A = 10*rand(1,10)\n",
    "Int64.(trunc.(A))\n",
    "B = parse.(Int64,[split(string(x),\".\")[1] for x in A])\n",
    "Int64.(floor.(A))\n",
    "Int64.(ceil.(A)) .- 1"
   ]
  },
  {
   "cell_type": "code",
   "execution_count": 53,
   "id": "8a957309",
   "metadata": {},
   "outputs": [
    {
     "data": {
      "text/plain": [
       "5×5 Matrix{Int64}:\n",
       " 4  4  1  4  0\n",
       " 2  2  0  0  4\n",
       " 2  0  1  4  2\n",
       " 1  3  0  4  2\n",
       " 0  4  1  1  2"
      ]
     },
     "execution_count": 53,
     "metadata": {},
     "output_type": "execute_result"
    }
   ],
   "source": [
    "a = rand(0:4,5,5)"
   ]
  },
  {
   "cell_type": "code",
   "execution_count": 54,
   "id": "1b01a19d",
   "metadata": {},
   "outputs": [
    {
     "data": {
      "text/plain": [
       "10-element Vector{Int64}:\n",
       "  1\n",
       "  2\n",
       "  3\n",
       "  4\n",
       "  5\n",
       "  6\n",
       "  7\n",
       "  8\n",
       "  9\n",
       " 10"
      ]
     },
     "execution_count": 54,
     "metadata": {},
     "output_type": "execute_result"
    }
   ],
   "source": [
    "a = collect(1:10)"
   ]
  },
  {
   "cell_type": "code",
   "execution_count": 55,
   "id": "b1ab9007",
   "metadata": {},
   "outputs": [
    {
     "data": {
      "text/plain": [
       "10-element Vector{Float64}:\n",
       " 0.448588370907255\n",
       " 0.5740094326683145\n",
       " 0.7266209319446986\n",
       " 0.5654013800239049\n",
       " 0.2526783612283935\n",
       " 0.13092193841888444\n",
       " 0.017564553494533675\n",
       " 0.13657452543017035\n",
       " 0.07888338188348176\n",
       " 0.9384275492157458"
      ]
     },
     "execution_count": 55,
     "metadata": {},
     "output_type": "execute_result"
    }
   ],
   "source": [
    "a = rand(10)"
   ]
  },
  {
   "cell_type": "code",
   "execution_count": 56,
   "id": "ad1812ed",
   "metadata": {},
   "outputs": [
    {
     "data": {
      "text/plain": [
       "10-element Vector{Float64}:\n",
       " 0.003941988424243759\n",
       " 0.3130359436311789\n",
       " 0.37781410024011974\n",
       " 0.4051332436659988\n",
       " 0.5410943184610901\n",
       " 0.5439534156110188\n",
       " 0.6562682270970318\n",
       " 0.7344709597520325\n",
       " 0.9693050950784624\n",
       " 0.9744010200754359"
      ]
     },
     "execution_count": 56,
     "metadata": {},
     "output_type": "execute_result"
    }
   ],
   "source": [
    "a = rand(10,)\n",
    "sort!(a)"
   ]
  },
  {
   "cell_type": "code",
   "execution_count": 57,
   "id": "ab1b7a11",
   "metadata": {},
   "outputs": [
    {
     "data": {
      "text/plain": [
       "false"
      ]
     },
     "execution_count": 57,
     "metadata": {},
     "output_type": "execute_result"
    }
   ],
   "source": [
    "isequal(A,B)"
   ]
  },
  {
   "cell_type": "code",
   "execution_count": 58,
   "id": "8812a6b2",
   "metadata": {},
   "outputs": [
    {
     "data": {
      "text/plain": [
       "10-element Vector{ComplexF64}:\n",
       "  0.4065084607605163 + 0.6511362976926275im\n",
       "   0.990886559671946 + 0.5943931444808569im\n",
       "  0.2263629451463699 + 0.39439731669920597im\n",
       " 0.39940347588389147 + 0.5668815666992407im\n",
       " 0.23788753107635416 + 0.395049314391114im\n",
       "  0.7590185970233304 + 0.17488862671047278im\n",
       " 0.17089881248978936 + 0.943126881106473im\n",
       "  0.8071373042682866 + 0.27466669972730606im\n",
       "  0.1414363132638586 + 0.6862513085223453im\n",
       "  0.7947217163100571 + 0.6707730591286355im"
      ]
     },
     "execution_count": 58,
     "metadata": {},
     "output_type": "execute_result"
    }
   ],
   "source": [
    "a = rand(10,2);\n",
    "ang = angle.(a[:,1] .+ 1im*a[:,2])\n",
    "r = hypot.(a[:,1] .+ a[:,2])# sqrt.(a[:,1].^2 .+ a[:,2].^2)\n",
    "p = r.*cis.(ang)  # r.*exp.(1im*ang) \n",
    "#or\n",
    "to_polar(x, y) = hypot(x, y) * cis(angle(x+im*y))\n",
    "[to_polar(x...) for x in eachrow(a)] #or\n",
    "[to_polar(a[i, 1], a[i, 2]) for i in axes(a, 1)] "
   ]
  },
  {
   "cell_type": "code",
   "execution_count": 59,
   "id": "55d5c43c",
   "metadata": {},
   "outputs": [
    {
     "data": {
      "text/plain": [
       "1-element view(::Vector{Float64}, [9]) with eltype Float64:\n",
       " 0.0"
      ]
     },
     "execution_count": 59,
     "metadata": {},
     "output_type": "execute_result"
    }
   ],
   "source": [
    "a = rand(10)\n",
    "a[a .==  maximum(a)] .= 0"
   ]
  },
  {
   "cell_type": "code",
   "execution_count": 63,
   "id": "70e9d9f1",
   "metadata": {},
   "outputs": [
    {
     "data": {
      "text/plain": [
       "5×5 Matrix{Float64}:\n",
       " 159.266     -7.98849   3.10236   11.5602   -32.2646\n",
       " -13.6612    -4.88618   4.11767  142.354     -9.05202\n",
       "  -3.70474   -2.49139  21.677     -5.2715    -3.25524\n",
       "  13.9018   -16.7994    2.57739    6.57212   28.8511\n",
       "  -2.07016   -1.6273   -5.98808   -2.48244   -1.92187"
      ]
     },
     "execution_count": 63,
     "metadata": {},
     "output_type": "execute_result"
    }
   ],
   "source": [
    "X = rand(5);Y = rand(5);\n",
    "C = [1/(xi-yi) for xi in X, yi in Y]#or\n",
    "C = 1 ./ (X .- Y')"
   ]
  },
  {
   "cell_type": "code",
   "execution_count": 66,
   "id": "0bd55c9c",
   "metadata": {},
   "outputs": [
    {
     "name": "stdout",
     "output_type": "stream",
     "text": [
      "[0.9285185394752822, 0.3217035373304292, 0.6578265166355485, 0.8578393515606015, 0.7596003511679978, 0.1946976091483914, 0.35299627786900145, 0.8331590921392543, 0.0, 0.20168450204254484]"
     ]
    },
    {
     "data": {
      "text/plain": [
       "10-element Vector{Float64}:\n",
       " 0.9285185394752822\n",
       " 0.3217035373304292\n",
       " 0.6578265166355485\n",
       " 0.8578393515606015\n",
       " 0.7596003511679978\n",
       " 0.1946976091483914\n",
       " 0.35299627786900145\n",
       " 0.8331590921392543\n",
       " 0.0\n",
       " 0.20168450204254484"
      ]
     },
     "metadata": {},
     "output_type": "display_data"
    },
    {
     "name": "stdout",
     "output_type": "stream",
     "text": [
      "0.9285185394752822\n",
      "0.3217035373304292\n",
      "0.6578265166355485\n",
      "0.8578393515606015\n",
      "0.7596003511679978\n",
      "0.1946976091483914\n",
      "0.35299627786900145\n",
      "0.8331590921392543\n",
      "0.0\n",
      "0.20168450204254484\n"
     ]
    }
   ],
   "source": [
    "print(a)\n",
    "display(a)\n",
    "foreach(println, a) #prints full array"
   ]
  },
  {
   "cell_type": "code",
   "execution_count": 67,
   "id": "b307c913",
   "metadata": {},
   "outputs": [
    {
     "data": {
      "text/plain": [
       "0.4829332691073728"
      ]
     },
     "execution_count": 67,
     "metadata": {},
     "output_type": "execute_result"
    }
   ],
   "source": [
    "a = rand(10)\n",
    "x = 0.5 #given scalar\n",
    "b = abs.(a .- x)\n",
    "a[findmin(b)[2]]"
   ]
  },
  {
   "cell_type": "code",
   "execution_count": null,
   "id": "49c6f9de",
   "metadata": {},
   "outputs": [],
   "source": []
  }
 ],
 "metadata": {
  "kernelspec": {
   "display_name": "Julia 1.7.3",
   "language": "julia",
   "name": "julia-1.7"
  },
  "language_info": {
   "file_extension": ".jl",
   "mimetype": "application/julia",
   "name": "julia",
   "version": "1.7.3"
  }
 },
 "nbformat": 4,
 "nbformat_minor": 5
}
