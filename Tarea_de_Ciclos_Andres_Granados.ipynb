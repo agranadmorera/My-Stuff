{
  "nbformat": 4,
  "nbformat_minor": 0,
  "metadata": {
    "colab": {
      "name": "Tarea de Ciclos - Andres Granados.ipynb",
      "provenance": [],
      "authorship_tag": "ABX9TyNsFAmviuD3XRbngVMra/6g",
      "include_colab_link": true
    },
    "kernelspec": {
      "name": "python3",
      "display_name": "Python 3"
    },
    "language_info": {
      "name": "python"
    }
  },
  "cells": [
    {
      "cell_type": "markdown",
      "metadata": {
        "id": "view-in-github",
        "colab_type": "text"
      },
      "source": [
        "<a href=\"https://colab.research.google.com/github/agranadmorera/My-Stuff/blob/main/Tarea_de_Ciclos_Andres_Granados.ipynb\" target=\"_parent\"><img src=\"https://colab.research.google.com/assets/colab-badge.svg\" alt=\"Open In Colab\"/></a>"
      ]
    },
    {
      "cell_type": "code",
      "execution_count": 10,
      "metadata": {
        "colab": {
          "base_uri": "https://localhost:8080/"
        },
        "id": "ssJARxnml7BR",
        "outputId": "d2b8ed27-cd33-43f1-e001-34f6f733486b"
      },
      "outputs": [
        {
          "output_type": "stream",
          "name": "stdout",
          "text": [
            "840\n"
          ]
        }
      ],
      "source": [
        "# Producto de 4 numeros enteros\n",
        "\n",
        "mult = (4 * 5 * 6 * 7)\n",
        "print(mult)"
      ]
    },
    {
      "cell_type": "code",
      "source": [
        "# Calcular promedio de 10 numeros enteros\n",
        "\n",
        "contador = 0\n",
        "suma = 0 \n",
        "numero = 1\n",
        "\n",
        "while numero != 0:\n",
        "    numero = int(input('Digite un mumero entero (0 para terminar): '))\n",
        "\n",
        "    suma += numero\n",
        "    contador += 1\n",
        "\n",
        "if contador == 0:\n",
        "    print('No digito ningun numero.')\n",
        "else:\n",
        "    promedio = suma / contador\n",
        "\n",
        "    print('Promedio de los {} numeros es igual a {}.'.format(contador, promedio))\n"
      ],
      "metadata": {
        "colab": {
          "base_uri": "https://localhost:8080/"
        },
        "id": "RK0Akbwmo9VM",
        "outputId": "1e064f2b-9294-4769-c0d9-d09d480bffc4"
      },
      "execution_count": 14,
      "outputs": [
        {
          "output_type": "stream",
          "name": "stdout",
          "text": [
            "Digite un mumero entero (0 para terminar): 11\n",
            "Digite un mumero entero (0 para terminar): 10\n",
            "Digite un mumero entero (0 para terminar): 9\n",
            "Digite un mumero entero (0 para terminar): 8\n",
            "Digite un mumero entero (0 para terminar): 7\n",
            "Digite un mumero entero (0 para terminar): 5\n",
            "Digite un mumero entero (0 para terminar): 6\n",
            "Digite un mumero entero (0 para terminar): 4\n",
            "Digite un mumero entero (0 para terminar): 3\n",
            "Digite un mumero entero (0 para terminar): 0\n",
            "Promedio de los 10 numeros es igual a 6.3.\n"
          ]
        }
      ]
    },
    {
      "cell_type": "code",
      "source": [
        ""
      ],
      "metadata": {
        "id": "mHhE7BlDshoQ"
      },
      "execution_count": null,
      "outputs": []
    },
    {
      "cell_type": "code",
      "source": [
        "#Calculo de suma de 12 numeros enteros, tanto pares como impares.\n",
        "\n",
        "def contar_pares_impares(lista):\n",
        "    pares, impares = 0, 0\n",
        "\n",
        "    for n in lista:\n",
        "        if n% 2 == 0:\n",
        "            pares += 1\n",
        "        else:\n",
        "            impares += 1\n",
        "\n",
        "    return pares, impares\n",
        "\n",
        "\n",
        "numeros = [1, 2, 3, 4, 5, 6, 7, 8, 9, 10, 11, 12]\n",
        "resultado = contar_pares_impares(numeros)\n",
        "\n",
        "print('La cantidad de pares es: %i' % resultado[0])\n",
        "print('La cantidad de impares es %i' % resultado[1])"
      ],
      "metadata": {
        "colab": {
          "base_uri": "https://localhost:8080/"
        },
        "id": "sYo18uC6uF0J",
        "outputId": "31b78e51-cb09-4181-b290-69613a5d39e0"
      },
      "execution_count": 17,
      "outputs": [
        {
          "output_type": "stream",
          "name": "stdout",
          "text": [
            "La cantidad de pares es: 6\n",
            "La cantidad de impares es 6\n"
          ]
        }
      ]
    },
    {
      "cell_type": "code",
      "source": [
        "# SUMA NUMEROS PARES \n",
        "\n",
        "total = 0\n",
        "\n",
        "# num = 12\n",
        "\n",
        "num = int(input(\"Please, enter a number: \"))\n",
        "even_numbers = []\n",
        "\n",
        "\n",
        "for i in range(0, num + 1):\n",
        "  if i % 2 == 0:\n",
        "    even_numbers.append(i)\n",
        "    total += i\n",
        "\n",
        "\n",
        "print(f\"All even numbers from 0 to {num} is: {even_numbers}\")\n",
        "print(\"........................................\")\n",
        "print(\"The sum of even numbers from 0 to {} is: {}\".format(num, total))"
      ],
      "metadata": {
        "colab": {
          "base_uri": "https://localhost:8080/"
        },
        "id": "lyOpC4idwYCY",
        "outputId": "13e61ec6-c278-4da0-e391-44067f4611d7"
      },
      "execution_count": 20,
      "outputs": [
        {
          "output_type": "stream",
          "name": "stdout",
          "text": [
            "Please, enter a number: 12\n",
            "All even numbers from 0 to 12 is: [0, 2, 4, 6, 8, 10, 12]\n",
            "........................................\n",
            "The sum of even numbers from 0 to 12 is: 42\n"
          ]
        }
      ]
    },
    {
      "cell_type": "code",
      "source": [
        "# SUMA NUMEROS IMPARES \n",
        "\n",
        "total = 0\n",
        "\n",
        "# num = 12\n",
        "\n",
        "num = int(input(\"Please, enter a number: \"))\n",
        "odd_numbers = []\n",
        "\n",
        "\n",
        "for i in range(0, num + 1):\n",
        "  if i % 2 == 1:\n",
        "    odd_numbers.append(i)\n",
        "    total += i\n",
        "\n",
        "\n",
        "print(f\"All odd numbers from 0 to {num} is: {odd_numbers}\")\n",
        "print(\"........................................\")\n",
        "print(\"The sum of odd numbers from 0 to {} is: {}\".format(num, total))"
      ],
      "metadata": {
        "colab": {
          "base_uri": "https://localhost:8080/"
        },
        "id": "HmxOsWAsx6ag",
        "outputId": "43a1db17-3205-4fa0-b551-a36068a6e366"
      },
      "execution_count": 21,
      "outputs": [
        {
          "output_type": "stream",
          "name": "stdout",
          "text": [
            "Please, enter a number: 12\n",
            "All odd numbers from 0 to 12 is: [1, 3, 5, 7, 9, 11]\n",
            "........................................\n",
            "The sum of odd numbers from 0 to 12 is: 36\n"
          ]
        }
      ]
    },
    {
      "cell_type": "code",
      "source": [
        "#Suma de 15 numeros y sumas de negativos y positivos digitados\n",
        "\n",
        "class Sumofnumbers: \n",
        "    \n",
        "    \n",
        "    def negSum(self, list): \n",
        "  \n",
        "        \n",
        "        \n",
        "        neg_sum = 0\n",
        "  \n",
        "        for num in list: \n",
        "  \n",
        "            \n",
        "            \n",
        "            num = int(num) \n",
        "  \n",
        "            \n",
        "            if(num < 0): \n",
        "  \n",
        "                \n",
        "                neg_sum += num \n",
        "  \n",
        "        print(\"Sum of negative numbers is \", neg_sum) \n",
        "  \n",
        "    \n",
        "    \n",
        "    def posSum(self, list): \n",
        "  \n",
        "        \n",
        "        \n",
        "        pos_even_sum = 0\n",
        "  \n",
        "        \n",
        "        \n",
        "        pos_odd_sum = 0\n",
        "        for num in list: \n",
        "  \n",
        "            \n",
        "            \n",
        "            num = int(num) \n",
        "  \n",
        "            \n",
        "            if(num >= 0): \n",
        "  \n",
        "                \n",
        "                if(num % 2 == 0): \n",
        "  \n",
        "                    \n",
        "                    \n",
        "                    pos_even_sum += num \n",
        "                else: \n",
        "  \n",
        "                    \n",
        "                    pos_odd_sum += num \n",
        "  \n",
        "        print(\"Sum of even positive numbers is \", \n",
        "              pos_even_sum) \n",
        "  \n",
        "        print(\"Sum of odd positive numbers is \", \n",
        "              pos_odd_sum) \n",
        "  \n",
        "  \n",
        "list_num = [-7, 5, 60, -34, 1, -25, 49, 45, 11, 93, -87, 46, -51, 4] \n",
        "  \n",
        "obj = Sumofnumbers() \n",
        "  \n",
        "obj.negSum(list_num) \n",
        "  \n",
        "obj.posSum(list_num)"
      ],
      "metadata": {
        "colab": {
          "base_uri": "https://localhost:8080/"
        },
        "id": "Ovhafr9B4nYl",
        "outputId": "c2a61624-d854-4750-9acc-aef5b022cc6a"
      },
      "execution_count": 24,
      "outputs": [
        {
          "output_type": "stream",
          "name": "stdout",
          "text": [
            "Sum of negative numbers is  -204\n",
            "Sum of even positive numbers is  110\n",
            "Sum of odd positive numbers is  204\n"
          ]
        }
      ]
    }
  ]
}